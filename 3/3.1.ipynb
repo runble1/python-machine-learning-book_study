{
 "cells": [
  {
   "cell_type": "markdown",
   "metadata": {},
   "source": [
    "機械学習のアルゴリズムのトレーニングの5ステップ\n",
    "1. 特徴量を選択する\n",
    "2. 性能指標を選択する\n",
    "3. 分類機と最適化アルゴリズムを選択する\n",
    "4. モデルの性能を評価する\n",
    "5. アルゴリズムを調整する"
   ]
  },
  {
   "cell_type": "code",
   "execution_count": null,
   "metadata": {
    "collapsed": true
   },
   "outputs": [],
   "source": []
  }
 ],
 "metadata": {
  "kernelspec": {
   "display_name": "Python 3",
   "language": "python",
   "name": "python3"
  },
  "language_info": {
   "codemirror_mode": {
    "name": "ipython",
    "version": 3
   },
   "file_extension": ".py",
   "mimetype": "text/x-python",
   "name": "python",
   "nbconvert_exporter": "python",
   "pygments_lexer": "ipython3",
   "version": "3.6.1"
  }
 },
 "nbformat": 4,
 "nbformat_minor": 2
}
